{
 "cells": [
  {
   "cell_type": "markdown",
   "metadata": {},
   "source": [
    "# Parsing"
   ]
  },
  {
   "cell_type": "code",
   "execution_count": 1,
   "metadata": {
    "collapsed": true
   },
   "outputs": [],
   "source": [
    "import pandas as pd\n",
    "import matplotlib.pyplot as plt\n",
    "import matplotlib\n",
    "import numpy as np\n",
    "import datetime as dt\n",
    "matplotlib.style.use('ggplot')"
   ]
  },
  {
   "cell_type": "code",
   "execution_count": 2,
   "metadata": {
    "collapsed": true
   },
   "outputs": [],
   "source": [
    "car_park={\n",
    "         \"Paseo\":0,\n",
    "         \"Marengo\":1,\n",
    "         \"Los Robles\":2,\n",
    "         \"Holly\":3,\n",
    "         \"Del Mar\":4}\n",
    "\n",
    "#column dict\n",
    "cols=[\"Park Trans #\",\n",
    "          \"Car Park #\",\n",
    "          \"Entry Time\",\n",
    "          \"Exit Time\",\n",
    "          \"Net Price\",\n",
    "          \"Net Turnover\",\n",
    "         ]\n",
    "col_use=cols[1:]\n",
    "\n",
    "#get rid of parking transaction number\n",
    "\n",
    "path=\"D:\\Datasets\\Del Mar Goldline Station\\parsed_mar\\\\\"\n",
    "all_ent_ppa='all_ENT_PPA.csv'\n",
    "\n",
    "data=pd.read_csv(path+all_ent_ppa,header=None,names=cols,usecols=col_use)"
   ]
  },
  {
   "cell_type": "code",
   "execution_count": 3,
   "metadata": {
    "collapsed": false
   },
   "outputs": [],
   "source": [
    "#Only lookign at delmar for now\n",
    "data=data[data['Car Park #']==car_park[\"Del Mar\"]]\n",
    "\n",
    "#convert Nans to 0\n",
    "data.fillna(0,inplace=True)\n",
    "\n",
    "#drop price information and car park #\n",
    "data.drop(['Car Park #','Net Price','Net Turnover'],axis=1,inplace=True)\n",
    "\n",
    "#to datetime\n",
    "data['Entry Time']=pd.to_datetime(data['Entry Time'],format='%Y-%m-%d %H:%M:%S')\n",
    "data['Exit Time']=pd.to_datetime(data['Exit Time'],format='%Y-%m-%d %H:%M:%S')\n",
    "\n",
    "#remove nonsensical entires with 1994 in Entry or Exit Time\n",
    "data=data[data['Entry Time']!=pd.to_datetime('1994-01-01 00:00:00')]\n",
    "data=data[data['Exit Time']!=pd.to_datetime('1994-01-01 00:00:00')]"
   ]
  },
  {
   "cell_type": "code",
   "execution_count": 26,
   "metadata": {
    "collapsed": false
   },
   "outputs": [],
   "source": [
    "#Mark as success or failure based on time differential\n",
    "bin_minutes=10\n",
    "bin_size=dt.timedelta(0,bin_minutes*60)\n",
    "\n",
    "# Failure = 1, Success = 0\n",
    "data['Failed'] = ((data['Exit Time']-data['Entry Time'])<bin_size).astype(int)"
   ]
  },
  {
   "cell_type": "code",
   "execution_count": 40,
   "metadata": {
    "collapsed": false
   },
   "outputs": [],
   "source": [
    "num_days=int((max(data['Entry Time'])-min(data['Entry Time'])).days)"
   ]
  },
  {
   "cell_type": "code",
   "execution_count": 79,
   "metadata": {
    "collapsed": false
   },
   "outputs": [
    {
     "data": {
      "text/plain": [
       "(536947, 3)"
      ]
     },
     "execution_count": 79,
     "metadata": {},
     "output_type": "execute_result"
    }
   ],
   "source": [
    "data.shape"
   ]
  },
  {
   "cell_type": "markdown",
   "metadata": {},
   "source": [
    "# Plotting\n",
    "\n",
    "## Total Parking Failure by Month for 2015"
   ]
  },
  {
   "cell_type": "code",
   "execution_count": 34,
   "metadata": {
    "collapsed": true
   },
   "outputs": [],
   "source": [
    "matplotlib.rcParams.update({'axes.titlesize': 24})\n",
    "matplotlib.rcParams.update({'axes.labelsize': 22})\n",
    "matplotlib.rcParams.update({'xtick.labelsize': 16})\n",
    "matplotlib.rcParams.update({'ytick.labelsize': 16})\n",
    "matplotlib.rcParams.update({'legend.fontsize': 16})\n",
    "matplotlib.rcParams.update({'savefig.dpi': 220})\n"
   ]
  },
  {
   "cell_type": "code",
   "execution_count": 84,
   "metadata": {
    "collapsed": true
   },
   "outputs": [],
   "source": [
    "#remove duplicate 2016\n",
    "df_short=data.loc[(data['Entry Time'].dt.year==2015) | ((data['Entry Time'].dt.month!=3) & (data['Entry Time'].dt.month!=4))]\n",
    "\n",
    "#separate out month\n",
    "by_month=df_short[['Failed']].copy()\n",
    "temp = pd.DatetimeIndex(df_short['Entry Time'])\n",
    "by_month['Month'] = temp.month\n",
    "\n",
    "#add a not failed\n",
    "by_month['Not Failed'] = (1-by_month['Failed']).astype(int)\n",
    "\n",
    "#group by month\n",
    "grouped = by_month.groupby('Month')\n",
    "bar_data = grouped.aggregate(np.sum)\n",
    "\n",
    "#month names for axis\n",
    "months = []\n",
    "for i in range(1,13):\n",
    "    months.append(dt.date(2008, i, 1).strftime('%B'))\n",
    "bar_data.set_index(pd.Series(months),inplace=True)\n",
    "    \n",
    "    \n",
    "bar_data.plot.bar(stacked=True)\n",
    "plt.title(\"Number of Cars Who Could Not Find Parking By Month\")\n",
    "#plt.xlabel(\"Month\")\n",
    "plt.ylabel(\"Number of Cars\")\n",
    "plt.legend(labels=['Did Not Find Parking','Found Parking'])\n",
    "plt.gcf().subplots_adjust(bottom=0.15)\n",
    "plt.show()"
   ]
  },
  {
   "cell_type": "markdown",
   "metadata": {},
   "source": [
    "## Mean Parking Failure Over the Year"
   ]
  },
  {
   "cell_type": "code",
   "execution_count": 65,
   "metadata": {
    "collapsed": false
   },
   "outputs": [],
   "source": [
    "#separate out month\n",
    "year_data=data[['Failed']].copy()\n",
    "temp = pd.DatetimeIndex(data['Entry Time'])\n",
    "year_data['date'] = temp.date\n",
    "\n",
    "#group by day minutes\n",
    "year_data=year_data.groupby('date').sum()\n",
    "\n",
    "year_data.plot(linewidth=3,legend=False)\n",
    "plt.title(\"Cars Who Could Not Find Parking Over the Year\")\n",
    "plt.xlabel(\"\")\n",
    "plt.ylabel(\"Number of Cars / Day\")\n",
    "plt.show()"
   ]
  },
  {
   "cell_type": "code",
   "execution_count": 77,
   "metadata": {
    "collapsed": false
   },
   "outputs": [
    {
     "data": {
      "text/html": [
       "<div>\n",
       "<table border=\"1\" class=\"dataframe\">\n",
       "  <thead>\n",
       "    <tr style=\"text-align: right;\">\n",
       "      <th></th>\n",
       "      <th>Failed</th>\n",
       "    </tr>\n",
       "    <tr>\n",
       "      <th>date</th>\n",
       "      <th></th>\n",
       "    </tr>\n",
       "  </thead>\n",
       "  <tbody>\n",
       "    <tr>\n",
       "      <th>2015-03-05</th>\n",
       "      <td>458</td>\n",
       "    </tr>\n",
       "    <tr>\n",
       "      <th>2015-09-24</th>\n",
       "      <td>484</td>\n",
       "    </tr>\n",
       "    <tr>\n",
       "      <th>2015-11-18</th>\n",
       "      <td>466</td>\n",
       "    </tr>\n",
       "    <tr>\n",
       "      <th>2015-12-10</th>\n",
       "      <td>465</td>\n",
       "    </tr>\n",
       "    <tr>\n",
       "      <th>2016-01-25</th>\n",
       "      <td>503</td>\n",
       "    </tr>\n",
       "    <tr>\n",
       "      <th>2016-01-26</th>\n",
       "      <td>462</td>\n",
       "    </tr>\n",
       "    <tr>\n",
       "      <th>2016-02-01</th>\n",
       "      <td>490</td>\n",
       "    </tr>\n",
       "    <tr>\n",
       "      <th>2016-02-05</th>\n",
       "      <td>469</td>\n",
       "    </tr>\n",
       "    <tr>\n",
       "      <th>2016-02-23</th>\n",
       "      <td>474</td>\n",
       "    </tr>\n",
       "    <tr>\n",
       "      <th>2016-02-24</th>\n",
       "      <td>505</td>\n",
       "    </tr>\n",
       "    <tr>\n",
       "      <th>2016-02-29</th>\n",
       "      <td>460</td>\n",
       "    </tr>\n",
       "  </tbody>\n",
       "</table>\n",
       "</div>"
      ],
      "text/plain": [
       "            Failed\n",
       "date              \n",
       "2015-03-05     458\n",
       "2015-09-24     484\n",
       "2015-11-18     466\n",
       "2015-12-10     465\n",
       "2016-01-25     503\n",
       "2016-01-26     462\n",
       "2016-02-01     490\n",
       "2016-02-05     469\n",
       "2016-02-23     474\n",
       "2016-02-24     505\n",
       "2016-02-29     460"
      ]
     },
     "execution_count": 77,
     "metadata": {},
     "output_type": "execute_result"
    }
   ],
   "source": [
    "year_data[year_data['Failed']>=458]"
   ]
  },
  {
   "cell_type": "markdown",
   "metadata": {},
   "source": [
    "## Mean Parking Failure during the Day"
   ]
  },
  {
   "cell_type": "code",
   "execution_count": 86,
   "metadata": {
    "collapsed": false
   },
   "outputs": [],
   "source": [
    "#separate out day\n",
    "day_data=data[['Failed']].copy()\n",
    "temp = pd.DatetimeIndex(data['Entry Time'])\n",
    "day_data['Time'] = temp.time\n",
    "day_data['Time'] = pd.to_datetime(day_data['Time'], format=\"%H:%M:%S\")\n",
    "\n",
    "#group by 5 minutes\n",
    "day_plot=day_data.groupby(pd.TimeGrouper(freq='10Min',key='Time')).mean()\n",
    "\n",
    "#remove index\n",
    "day_plot.reset_index(inplace=True)\n",
    "\n",
    "#remove date\n",
    "day_plot['Time']=day_plot['Time'].dt.time\n",
    "\n",
    "#reset index\n",
    "day_plot.set_index('Time',inplace=True)\n",
    "\n",
    "day_plot.plot(linewidth=3,legend=False)\n",
    "plt.title(\"Cars Who Could Not Find Parking During the Day\")\n",
    "plt.xlabel(\"Time of Day\")\n",
    "plt.ylabel(\"Percent of Cars / 10 Minutes\")\n",
    "plt.show()"
   ]
  },
  {
   "cell_type": "code",
   "execution_count": 49,
   "metadata": {
    "collapsed": true
   },
   "outputs": [],
   "source": [
    "#group by 10 minutes\n",
    "day_plot=day_data.groupby(pd.TimeGrouper(freq='10Min',key='Time')).sum()/num_days\n",
    "\n",
    "#remove index\n",
    "day_plot.reset_index(inplace=True)\n",
    "\n",
    "#remove date\n",
    "day_plot['Time']=day_plot['Time'].dt.time\n",
    "\n",
    "#reset index\n",
    "day_plot.set_index('Time',inplace=True)\n",
    "\n",
    "day_plot.plot(linewidth=3,legend=False)\n",
    "plt.title(\"Cars Who Could Not Find Parking During the Day\")\n",
    "plt.xlabel(\"Time of Day\")\n",
    "plt.ylabel(\"Number of Cars / 10 Minutes\")\n",
    "plt.show()"
   ]
  },
  {
   "cell_type": "markdown",
   "metadata": {},
   "source": [
    "## Parking Failure during the Week"
   ]
  },
  {
   "cell_type": "code",
   "execution_count": 54,
   "metadata": {
    "collapsed": false
   },
   "outputs": [],
   "source": [
    "#weekday name list\n",
    "wkdy_name=['Monday','Tuesday','Wednesday','Thursday','Friday','Saturday','Sunday']\n",
    "\n",
    "#separate out time\n",
    "week_data=data[['Failed']].copy()\n",
    "temp = pd.DatetimeIndex(data['Entry Time'])\n",
    "week_data['date'] = temp.date\n",
    "week_data['weekday'] = data['Entry Time'].apply(lambda x: wkdy_name[x.weekday()])\n",
    "\n",
    "\n",
    "week_avg = week_data.groupby(['weekday']).mean()\n",
    "week_avg=week_avg.reindex(wkdy_name) #get right order\n",
    "\n",
    "week_avg.plot.bar(stacked=True, legend=False)\n",
    "plt.title(\"Cars Who Could Not Find Parking During the Week\")\n",
    "plt.xlabel(\"\")\n",
    "plt.ylabel(\"Percent of Cars\")\n",
    "plt.gcf().subplots_adjust(bottom=0.15)\n",
    "plt.show()"
   ]
  },
  {
   "cell_type": "markdown",
   "metadata": {},
   "source": [
    "## Histogram of Time Spent In Parking Lot"
   ]
  },
  {
   "cell_type": "code",
   "execution_count": 6,
   "metadata": {
    "collapsed": false
   },
   "outputs": [],
   "source": [
    "time_spent = data[['Entry Time','Exit Time']]\n",
    "time_spent['Total Time']= ((data['Exit Time']-data['Entry Time']).dt.seconds)/60.0 #to convert to minutes\n",
    "\n",
    "binwidth=30\n",
    "time_spent.plot.hist(y='Total Time',legend=False,bins=range(int(min(time_spent['Total Time'])), int(max(time_spent['Total Time'])) + binwidth, binwidth))\n",
    "plt.xticks(np.arange(0, max(time_spent['Total Time']), 60))\n",
    "plt.title(\"Time Spent in Del Mark Parking Structure\")\n",
    "plt.xlabel(\"Time (minutes)\")\n",
    "plt.ylabel(\"Frequency\")\n",
    "plt.show()"
   ]
  },
  {
   "cell_type": "code",
   "execution_count": null,
   "metadata": {
    "collapsed": false
   },
   "outputs": [],
   "source": [
    "binwidth=30\n",
    "time_spent.plot.hist(y='Total Time',legend=False,bins=range(int(min(time_spent['Total Time'])), int(max(time_spent['Total Time'])) + binwidth, binwidth))\n",
    "plt.xticks(np.arange(0, max(time_spent['Total Time']), 60))\n",
    "plt.title(\"Time Spent in Del Mark Parking Structure\")\n",
    "plt.xlabel(\"Time (minutes)\")\n",
    "plt.ylabel(\"Frequency\")\n",
    "plt.show()"
   ]
  },
  {
   "cell_type": "code",
   "execution_count": 85,
   "metadata": {
    "collapsed": false
   },
   "outputs": [
    {
     "data": {
      "text/plain": [
       "Timestamp('2015-03-01 00:02:23')"
      ]
     },
     "execution_count": 85,
     "metadata": {},
     "output_type": "execute_result"
    }
   ],
   "source": [
    "min(time_spent['Entry Time'])"
   ]
  },
  {
   "cell_type": "markdown",
   "metadata": {},
   "source": [
    "## Combining Capacity and Failure"
   ]
  },
  {
   "cell_type": "code",
   "execution_count": 90,
   "metadata": {
    "collapsed": true
   },
   "outputs": [],
   "source": [
    "path=\"D:\\Datasets\\Del Mar Goldline Station\\parsed_mar\\\\\"\n",
    "\n",
    "capacity=600\n",
    "\n",
    "parking_name='del_mar'\n",
    "\n",
    "car_types=['All Cars','Unknown','Free','Discounted','Full Price']\n",
    "colnames=['datetime']+car_types\n",
    "\n",
    "#import\n",
    "df=pd.read_csv(path+parking_name+'_flow.csv',header=None,names=colnames)\n",
    "df['datetime']=pd.to_datetime(df['datetime'],format='%Y-%m-%d %H:%M:%S')\n",
    "\n",
    "#remove march and june from 2016\n",
    "df=df.loc[(df['datetime'].dt.year==2015) | ((df['datetime'].dt.month!=3) & (df['datetime'].dt.month!=4))]"
   ]
  },
  {
   "cell_type": "code",
   "execution_count": 129,
   "metadata": {
    "collapsed": true
   },
   "outputs": [],
   "source": [
    "#data for failure\n",
    "#separate out day\n",
    "day_data=data[['Failed']].copy()\n",
    "temp = pd.DatetimeIndex(data['Entry Time'])\n",
    "day_data['Time'] = temp.time\n",
    "day_data['Time'] = pd.to_datetime(day_data['Time'], format=\"%H:%M:%S\")\n",
    "\n",
    "#group by 10 minutes\n",
    "day_plot=day_data.groupby(pd.TimeGrouper(freq='10Min',key='Time')).sum()/num_days\n",
    "\n",
    "#remove index\n",
    "day_plot.reset_index(inplace=True)\n",
    "\n",
    "#remove date\n",
    "day_plot['Time']=day_plot['Time'].dt.time\n",
    "\n",
    "#reset index\n",
    "day_plot.set_index('Time',inplace=True)"
   ]
  },
  {
   "cell_type": "code",
   "execution_count": 104,
   "metadata": {
    "collapsed": false
   },
   "outputs": [],
   "source": [
    "#separate out time\n",
    "day_data_cap=df[car_types].copy()\n",
    "temp = pd.DatetimeIndex(df['datetime'])\n",
    "day_data_cap['time'] = temp.time\n",
    "\n",
    "grouped = day_data_cap[['time']+car_types].groupby(['time'])\n",
    "day_avg_cap = grouped.aggregate(np.mean)/capacity*100\n"
   ]
  },
  {
   "cell_type": "code",
   "execution_count": 139,
   "metadata": {
    "collapsed": false
   },
   "outputs": [],
   "source": [
    "day_plot['Capacity Usage']=day_avg_cap['All Cars']\n",
    "day_plot.rename(columns={'Failed':'Cannot Find Parking'},inplace=True)\n",
    "\n",
    "ax=day_plot.plot(secondary_y='Capacity Usage',linewidth=3)\n",
    "plt.title('Cars Who Cannot Find Parking VS Parking Structure Usage')\n",
    "ax.set_ylabel('Number of Cars / 10 Minutes')\n",
    "ax.right_ax.set_ylabel('Parking Structure Usage (%)')\n",
    "plt.show()"
   ]
  },
  {
   "cell_type": "code",
   "execution_count": 137,
   "metadata": {
    "collapsed": false
   },
   "outputs": [
    {
     "data": {
      "text/html": [
       "<div>\n",
       "<table border=\"1\" class=\"dataframe\">\n",
       "  <thead>\n",
       "    <tr style=\"text-align: right;\">\n",
       "      <th></th>\n",
       "      <th>Cannot Find Parking</th>\n",
       "      <th>Capacity Usage</th>\n",
       "    </tr>\n",
       "    <tr>\n",
       "      <th>Time</th>\n",
       "      <th></th>\n",
       "      <th></th>\n",
       "    </tr>\n",
       "  </thead>\n",
       "  <tbody>\n",
       "    <tr>\n",
       "      <th>00:00:00</th>\n",
       "      <td>1.343434</td>\n",
       "      <td>65.117942</td>\n",
       "    </tr>\n",
       "    <tr>\n",
       "      <th>00:10:00</th>\n",
       "      <td>1.262626</td>\n",
       "      <td>65.144809</td>\n",
       "    </tr>\n",
       "    <tr>\n",
       "      <th>00:20:00</th>\n",
       "      <td>1.005051</td>\n",
       "      <td>65.180328</td>\n",
       "    </tr>\n",
       "    <tr>\n",
       "      <th>00:30:00</th>\n",
       "      <td>0.977273</td>\n",
       "      <td>65.235428</td>\n",
       "    </tr>\n",
       "    <tr>\n",
       "      <th>00:40:00</th>\n",
       "      <td>0.934343</td>\n",
       "      <td>65.275501</td>\n",
       "    </tr>\n",
       "    <tr>\n",
       "      <th>00:50:00</th>\n",
       "      <td>0.901515</td>\n",
       "      <td>65.325592</td>\n",
       "    </tr>\n",
       "    <tr>\n",
       "      <th>01:00:00</th>\n",
       "      <td>0.835859</td>\n",
       "      <td>65.407104</td>\n",
       "    </tr>\n",
       "    <tr>\n",
       "      <th>01:10:00</th>\n",
       "      <td>0.797980</td>\n",
       "      <td>65.482696</td>\n",
       "    </tr>\n",
       "    <tr>\n",
       "      <th>01:20:00</th>\n",
       "      <td>0.654040</td>\n",
       "      <td>65.541894</td>\n",
       "    </tr>\n",
       "    <tr>\n",
       "      <th>01:30:00</th>\n",
       "      <td>0.568182</td>\n",
       "      <td>65.583789</td>\n",
       "    </tr>\n",
       "    <tr>\n",
       "      <th>01:40:00</th>\n",
       "      <td>0.477273</td>\n",
       "      <td>65.626594</td>\n",
       "    </tr>\n",
       "    <tr>\n",
       "      <th>01:50:00</th>\n",
       "      <td>0.469697</td>\n",
       "      <td>65.660291</td>\n",
       "    </tr>\n",
       "    <tr>\n",
       "      <th>02:00:00</th>\n",
       "      <td>0.452020</td>\n",
       "      <td>65.697177</td>\n",
       "    </tr>\n",
       "    <tr>\n",
       "      <th>02:10:00</th>\n",
       "      <td>0.487374</td>\n",
       "      <td>65.746812</td>\n",
       "    </tr>\n",
       "    <tr>\n",
       "      <th>02:20:00</th>\n",
       "      <td>0.361111</td>\n",
       "      <td>65.793716</td>\n",
       "    </tr>\n",
       "    <tr>\n",
       "      <th>02:30:00</th>\n",
       "      <td>0.356061</td>\n",
       "      <td>65.829690</td>\n",
       "    </tr>\n",
       "    <tr>\n",
       "      <th>02:40:00</th>\n",
       "      <td>0.297980</td>\n",
       "      <td>65.854281</td>\n",
       "    </tr>\n",
       "    <tr>\n",
       "      <th>02:50:00</th>\n",
       "      <td>0.285354</td>\n",
       "      <td>65.881603</td>\n",
       "    </tr>\n",
       "    <tr>\n",
       "      <th>03:00:00</th>\n",
       "      <td>0.255051</td>\n",
       "      <td>65.903005</td>\n",
       "    </tr>\n",
       "    <tr>\n",
       "      <th>03:10:00</th>\n",
       "      <td>0.239899</td>\n",
       "      <td>65.930783</td>\n",
       "    </tr>\n",
       "    <tr>\n",
       "      <th>03:20:00</th>\n",
       "      <td>0.282828</td>\n",
       "      <td>65.960838</td>\n",
       "    </tr>\n",
       "    <tr>\n",
       "      <th>03:30:00</th>\n",
       "      <td>0.196970</td>\n",
       "      <td>65.988616</td>\n",
       "    </tr>\n",
       "    <tr>\n",
       "      <th>03:40:00</th>\n",
       "      <td>0.138889</td>\n",
       "      <td>66.010929</td>\n",
       "    </tr>\n",
       "    <tr>\n",
       "      <th>03:50:00</th>\n",
       "      <td>0.159091</td>\n",
       "      <td>66.024590</td>\n",
       "    </tr>\n",
       "    <tr>\n",
       "      <th>04:00:00</th>\n",
       "      <td>0.181818</td>\n",
       "      <td>66.032332</td>\n",
       "    </tr>\n",
       "    <tr>\n",
       "      <th>04:10:00</th>\n",
       "      <td>0.141414</td>\n",
       "      <td>66.050546</td>\n",
       "    </tr>\n",
       "    <tr>\n",
       "      <th>04:20:00</th>\n",
       "      <td>0.133838</td>\n",
       "      <td>66.081967</td>\n",
       "    </tr>\n",
       "    <tr>\n",
       "      <th>04:30:00</th>\n",
       "      <td>0.118687</td>\n",
       "      <td>66.068306</td>\n",
       "    </tr>\n",
       "    <tr>\n",
       "      <th>04:40:00</th>\n",
       "      <td>0.131313</td>\n",
       "      <td>66.056466</td>\n",
       "    </tr>\n",
       "    <tr>\n",
       "      <th>04:50:00</th>\n",
       "      <td>0.146465</td>\n",
       "      <td>66.055100</td>\n",
       "    </tr>\n",
       "    <tr>\n",
       "      <th>...</th>\n",
       "      <td>...</td>\n",
       "      <td>...</td>\n",
       "    </tr>\n",
       "    <tr>\n",
       "      <th>19:00:00</th>\n",
       "      <td>5.287879</td>\n",
       "      <td>80.445355</td>\n",
       "    </tr>\n",
       "    <tr>\n",
       "      <th>19:10:00</th>\n",
       "      <td>5.078283</td>\n",
       "      <td>80.427596</td>\n",
       "    </tr>\n",
       "    <tr>\n",
       "      <th>19:20:00</th>\n",
       "      <td>4.780303</td>\n",
       "      <td>80.234517</td>\n",
       "    </tr>\n",
       "    <tr>\n",
       "      <th>19:30:00</th>\n",
       "      <td>4.500000</td>\n",
       "      <td>80.052823</td>\n",
       "    </tr>\n",
       "    <tr>\n",
       "      <th>19:40:00</th>\n",
       "      <td>4.414141</td>\n",
       "      <td>79.890255</td>\n",
       "    </tr>\n",
       "    <tr>\n",
       "      <th>19:50:00</th>\n",
       "      <td>4.507576</td>\n",
       "      <td>79.472678</td>\n",
       "    </tr>\n",
       "    <tr>\n",
       "      <th>20:00:00</th>\n",
       "      <td>4.409091</td>\n",
       "      <td>79.121585</td>\n",
       "    </tr>\n",
       "    <tr>\n",
       "      <th>20:10:00</th>\n",
       "      <td>4.088384</td>\n",
       "      <td>78.663479</td>\n",
       "    </tr>\n",
       "    <tr>\n",
       "      <th>20:20:00</th>\n",
       "      <td>4.050505</td>\n",
       "      <td>77.984973</td>\n",
       "    </tr>\n",
       "    <tr>\n",
       "      <th>20:30:00</th>\n",
       "      <td>4.101010</td>\n",
       "      <td>77.364299</td>\n",
       "    </tr>\n",
       "    <tr>\n",
       "      <th>20:40:00</th>\n",
       "      <td>4.027778</td>\n",
       "      <td>76.705373</td>\n",
       "    </tr>\n",
       "    <tr>\n",
       "      <th>20:50:00</th>\n",
       "      <td>3.805556</td>\n",
       "      <td>75.903005</td>\n",
       "    </tr>\n",
       "    <tr>\n",
       "      <th>21:00:00</th>\n",
       "      <td>3.782828</td>\n",
       "      <td>75.034608</td>\n",
       "    </tr>\n",
       "    <tr>\n",
       "      <th>21:10:00</th>\n",
       "      <td>3.593434</td>\n",
       "      <td>74.111566</td>\n",
       "    </tr>\n",
       "    <tr>\n",
       "      <th>21:20:00</th>\n",
       "      <td>3.469697</td>\n",
       "      <td>73.171220</td>\n",
       "    </tr>\n",
       "    <tr>\n",
       "      <th>21:30:00</th>\n",
       "      <td>3.196970</td>\n",
       "      <td>72.285519</td>\n",
       "    </tr>\n",
       "    <tr>\n",
       "      <th>21:40:00</th>\n",
       "      <td>3.171717</td>\n",
       "      <td>71.449909</td>\n",
       "    </tr>\n",
       "    <tr>\n",
       "      <th>21:50:00</th>\n",
       "      <td>2.957071</td>\n",
       "      <td>70.707650</td>\n",
       "    </tr>\n",
       "    <tr>\n",
       "      <th>22:00:00</th>\n",
       "      <td>3.017677</td>\n",
       "      <td>69.946721</td>\n",
       "    </tr>\n",
       "    <tr>\n",
       "      <th>22:10:00</th>\n",
       "      <td>2.863636</td>\n",
       "      <td>69.181239</td>\n",
       "    </tr>\n",
       "    <tr>\n",
       "      <th>22:20:00</th>\n",
       "      <td>2.719697</td>\n",
       "      <td>68.443989</td>\n",
       "    </tr>\n",
       "    <tr>\n",
       "      <th>22:30:00</th>\n",
       "      <td>2.492424</td>\n",
       "      <td>67.763661</td>\n",
       "    </tr>\n",
       "    <tr>\n",
       "      <th>22:40:00</th>\n",
       "      <td>2.416667</td>\n",
       "      <td>67.154372</td>\n",
       "    </tr>\n",
       "    <tr>\n",
       "      <th>22:50:00</th>\n",
       "      <td>2.330808</td>\n",
       "      <td>66.726776</td>\n",
       "    </tr>\n",
       "    <tr>\n",
       "      <th>23:00:00</th>\n",
       "      <td>2.181818</td>\n",
       "      <td>66.331512</td>\n",
       "    </tr>\n",
       "    <tr>\n",
       "      <th>23:10:00</th>\n",
       "      <td>1.863636</td>\n",
       "      <td>65.875228</td>\n",
       "    </tr>\n",
       "    <tr>\n",
       "      <th>23:20:00</th>\n",
       "      <td>1.727273</td>\n",
       "      <td>65.605647</td>\n",
       "    </tr>\n",
       "    <tr>\n",
       "      <th>23:30:00</th>\n",
       "      <td>1.689394</td>\n",
       "      <td>65.419854</td>\n",
       "    </tr>\n",
       "    <tr>\n",
       "      <th>23:40:00</th>\n",
       "      <td>1.550505</td>\n",
       "      <td>65.348361</td>\n",
       "    </tr>\n",
       "    <tr>\n",
       "      <th>23:50:00</th>\n",
       "      <td>1.287879</td>\n",
       "      <td>65.338342</td>\n",
       "    </tr>\n",
       "  </tbody>\n",
       "</table>\n",
       "<p>144 rows × 2 columns</p>\n",
       "</div>"
      ],
      "text/plain": [
       "          Cannot Find Parking  Capacity Usage\n",
       "Time                                         \n",
       "00:00:00             1.343434       65.117942\n",
       "00:10:00             1.262626       65.144809\n",
       "00:20:00             1.005051       65.180328\n",
       "00:30:00             0.977273       65.235428\n",
       "00:40:00             0.934343       65.275501\n",
       "00:50:00             0.901515       65.325592\n",
       "01:00:00             0.835859       65.407104\n",
       "01:10:00             0.797980       65.482696\n",
       "01:20:00             0.654040       65.541894\n",
       "01:30:00             0.568182       65.583789\n",
       "01:40:00             0.477273       65.626594\n",
       "01:50:00             0.469697       65.660291\n",
       "02:00:00             0.452020       65.697177\n",
       "02:10:00             0.487374       65.746812\n",
       "02:20:00             0.361111       65.793716\n",
       "02:30:00             0.356061       65.829690\n",
       "02:40:00             0.297980       65.854281\n",
       "02:50:00             0.285354       65.881603\n",
       "03:00:00             0.255051       65.903005\n",
       "03:10:00             0.239899       65.930783\n",
       "03:20:00             0.282828       65.960838\n",
       "03:30:00             0.196970       65.988616\n",
       "03:40:00             0.138889       66.010929\n",
       "03:50:00             0.159091       66.024590\n",
       "04:00:00             0.181818       66.032332\n",
       "04:10:00             0.141414       66.050546\n",
       "04:20:00             0.133838       66.081967\n",
       "04:30:00             0.118687       66.068306\n",
       "04:40:00             0.131313       66.056466\n",
       "04:50:00             0.146465       66.055100\n",
       "...                       ...             ...\n",
       "19:00:00             5.287879       80.445355\n",
       "19:10:00             5.078283       80.427596\n",
       "19:20:00             4.780303       80.234517\n",
       "19:30:00             4.500000       80.052823\n",
       "19:40:00             4.414141       79.890255\n",
       "19:50:00             4.507576       79.472678\n",
       "20:00:00             4.409091       79.121585\n",
       "20:10:00             4.088384       78.663479\n",
       "20:20:00             4.050505       77.984973\n",
       "20:30:00             4.101010       77.364299\n",
       "20:40:00             4.027778       76.705373\n",
       "20:50:00             3.805556       75.903005\n",
       "21:00:00             3.782828       75.034608\n",
       "21:10:00             3.593434       74.111566\n",
       "21:20:00             3.469697       73.171220\n",
       "21:30:00             3.196970       72.285519\n",
       "21:40:00             3.171717       71.449909\n",
       "21:50:00             2.957071       70.707650\n",
       "22:00:00             3.017677       69.946721\n",
       "22:10:00             2.863636       69.181239\n",
       "22:20:00             2.719697       68.443989\n",
       "22:30:00             2.492424       67.763661\n",
       "22:40:00             2.416667       67.154372\n",
       "22:50:00             2.330808       66.726776\n",
       "23:00:00             2.181818       66.331512\n",
       "23:10:00             1.863636       65.875228\n",
       "23:20:00             1.727273       65.605647\n",
       "23:30:00             1.689394       65.419854\n",
       "23:40:00             1.550505       65.348361\n",
       "23:50:00             1.287879       65.338342\n",
       "\n",
       "[144 rows x 2 columns]"
      ]
     },
     "execution_count": 137,
     "metadata": {},
     "output_type": "execute_result"
    }
   ],
   "source": [
    "day_plot.rename(columns={'Failed':'Cannot Find Parking'})"
   ]
  },
  {
   "cell_type": "code",
   "execution_count": null,
   "metadata": {
    "collapsed": true
   },
   "outputs": [],
   "source": []
  }
 ],
 "metadata": {
  "kernelspec": {
   "display_name": "Python 2",
   "language": "python",
   "name": "python2"
  },
  "language_info": {
   "codemirror_mode": {
    "name": "ipython",
    "version": 2
   },
   "file_extension": ".py",
   "mimetype": "text/x-python",
   "name": "python",
   "nbconvert_exporter": "python",
   "pygments_lexer": "ipython2",
   "version": "2.7.9"
  }
 },
 "nbformat": 4,
 "nbformat_minor": 0
}
