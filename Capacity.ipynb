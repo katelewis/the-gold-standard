{
 "cells": [
  {
   "cell_type": "markdown",
   "metadata": {},
   "source": [
    "# Parsing\n",
    "## Capacity"
   ]
  },
  {
   "cell_type": "code",
   "execution_count": null,
   "metadata": {
    "collapsed": false
   },
   "outputs": [],
   "source": [
    "#Formatter for capacity analysis\n",
    "\n",
    "import pandas as pd\n",
    "import matplotlib.pyplot as plt\n",
    "import numpy as np"
   ]
  },
  {
   "cell_type": "code",
   "execution_count": null,
   "metadata": {
    "collapsed": false
   },
   "outputs": [],
   "source": [
    "car_park={\n",
    "         \"Paseo\":0,\n",
    "         \"Marengo\":1,\n",
    "         \"Los Robles\":2,\n",
    "         \"Holly\":3,\n",
    "         \"Del Mar\":4}\n",
    "\n",
    "#column dict\n",
    "cols=[\"Park Trans #\",\n",
    "          \"Car Park #\",\n",
    "          \"Entry Time\",\n",
    "          \"Exit Time\",\n",
    "          \"Net Price\",\n",
    "          \"Net Turnover\",\n",
    "         ]\n",
    "col_use=cols[1:]\n",
    "\n",
    "#get rid of parking transaction number\n",
    "\n",
    "path=\"D:\\Datasets\\Del Mar Goldline Station\\parsed_mar\\\\\"\n",
    "all_ent_ppa='all_ENT_PPA.csv'\n",
    "\n",
    "data=pd.read_csv(path+all_ent_ppa,header=None,names=cols,usecols=col_use)"
   ]
  },
  {
   "cell_type": "code",
   "execution_count": null,
   "metadata": {
    "collapsed": false
   },
   "outputs": [],
   "source": [
    "#convert Nans to -1\n",
    "data.fillna(-1,inplace=True)\n",
    "\n",
    "#unknown transaction\n",
    "data['Unknown'] = [1 if x==-1 else 0 for x in data['Net Price']]\n",
    "\n",
    "#free\n",
    "data['Free'] = [1 if x==0 else 0 for x in data['Net Price']]\n",
    "\n",
    "# add new column -> 0 if full price, 1 if discounted\n",
    "# no overlap with unknown\n",
    "# no overlap with free\n",
    "data['Discounted'] = data.apply(lambda x : 1 if x['Net Price'] != x['Net Turnover'] and x['Unknown']==0 and x['Free']==0 else 0, axis=1)\n",
    "\n",
    "#full price\n",
    "data['Full Price'] = (data['Discounted']+data['Free']+data['Unknown']+1)%2\n",
    "\n",
    "#to datetime\n",
    "data['Entry Time']=pd.to_datetime(data['Entry Time'],format='%Y-%m-%d %H:%M:%S')\n",
    "data['Exit Time']=pd.to_datetime(data['Exit Time'],format='%Y-%m-%d %H:%M:%S')\n",
    "\n",
    "#remove nonsensical entires with 1994 in Entry or Exit Time\n",
    "data=data[data['Entry Time']!=pd.to_datetime('1994-01-01 00:00:00')]\n",
    "data=data[data['Exit Time']!=pd.to_datetime('1994-01-01 00:00:00')]"
   ]
  },
  {
   "cell_type": "code",
   "execution_count": null,
   "metadata": {
    "collapsed": false
   },
   "outputs": [],
   "source": [
    "park=[]\n",
    "for i in car_park.iterkeys():\n",
    "    print \"Starting \"+i\n",
    "    #separate columns\n",
    "    temp_entry=data[data['Car Park #']==car_park[i]][[\"Entry Time\",\"Unknown\",\"Free\",\"Discounted\",\"Full Price\"]]\n",
    "    temp_exit=data[data['Car Park #']==car_park[i]][[\"Exit Time\",\"Unknown\",\"Free\",\"Discounted\",\"Full Price\"]]\n",
    "    #add a 1 for entry and -1 for exit\n",
    "    temp_entry.insert(1,'Entry/Exit',pd.Series([1]*temp_entry.shape[0], index=temp_entry.index))\n",
    "    temp_exit.insert(1,'Entry/Exit',pd.Series([-1]*temp_exit.shape[0], index=temp_entry.index))\n",
    "    #rename\n",
    "    temp_entry.columns=['Time','Entry/Exit',\"Unknown\",\"Free\",\"Discounted\",\"Full Price\"]\n",
    "    temp_exit.columns=['Time','Entry/Exit',\"Unknown\",\"Free\",\"Discounted\",\"Full Price\"]\n",
    "    #concat\n",
    "    temp=pd.concat([temp_entry,temp_exit])\n",
    "    temp['Entry/Exit'].astype(int)\n",
    "    temp.sort_values(['Time'],inplace=True)\n",
    "    park.append(temp)\n",
    "    #writeout\n",
    "    temp.to_csv(path+i+'_inout.csv',index=False)\n",
    "    print i+\" done.\""
   ]
  },
  {
   "cell_type": "code",
   "execution_count": null,
   "metadata": {
    "collapsed": false
   },
   "outputs": [],
   "source": []
  },
  {
   "cell_type": "markdown",
   "metadata": {},
   "source": [
    "# Plotting"
   ]
  },
  {
   "cell_type": "code",
   "execution_count": 4,
   "metadata": {
    "collapsed": false,
    "scrolled": true
   },
   "outputs": [],
   "source": [
    "#TODO: Try removing circling people from data\n",
    "\n",
    "#plotting\n",
    "import pandas as pd\n",
    "import matplotlib.pyplot as plt\n",
    "import matplotlib\n",
    "import numpy as np\n",
    "import datetime\n",
    "matplotlib.style.use('ggplot')\n",
    "\n",
    "path=\"D:\\Datasets\\Del Mar Goldline Station\\parsed_mar\\\\\"\n",
    "\n",
    "capacity=600\n",
    "\n",
    "parking_name='del_mar'\n",
    "\n",
    "car_types=['All Cars','Unknown','Free','Discounted','Full Price']\n",
    "colnames=['datetime']+car_types\n",
    "\n",
    "#import\n",
    "df=pd.read_csv(path+parking_name+'_flow.csv',header=None,names=colnames)\n",
    "df['datetime']=pd.to_datetime(df['datetime'],format='%Y-%m-%d %H:%M:%S')\n",
    "\n",
    "#remove march and june from 2016\n",
    "df=df.loc[(df['datetime'].dt.year==2015) | ((df['datetime'].dt.month!=3) & (df['datetime'].dt.month!=4))]"
   ]
  },
  {
   "cell_type": "code",
   "execution_count": 5,
   "metadata": {
    "collapsed": true
   },
   "outputs": [],
   "source": [
    "matplotlib.rcParams.update({'axes.titlesize': 24})\n",
    "matplotlib.rcParams.update({'axes.labelsize': 22})\n",
    "matplotlib.rcParams.update({'xtick.labelsize': 16})\n",
    "matplotlib.rcParams.update({'ytick.labelsize': 16})\n",
    "matplotlib.rcParams.update({'legend.fontsize': 16})\n",
    "matplotlib.rcParams.update({'savefig.dpi': 220})"
   ]
  },
  {
   "cell_type": "code",
   "execution_count": 12,
   "metadata": {
    "collapsed": false
   },
   "outputs": [
    {
     "data": {
      "text/plain": [
       "179"
      ]
     },
     "execution_count": 12,
     "metadata": {},
     "output_type": "execute_result"
    }
   ],
   "source": [
    "mini=df.loc[(df['datetime'].dt.year==2015) & ((df['datetime'].dt.month>7) & (df['datetime'].dt.day>0))]\n",
    "min(mini['All Cars'])"
   ]
  },
  {
   "cell_type": "markdown",
   "metadata": {},
   "source": [
    "## Mean Usage By Month"
   ]
  },
  {
   "cell_type": "code",
   "execution_count": null,
   "metadata": {
    "collapsed": false
   },
   "outputs": [],
   "source": [
    "#separate out month\n",
    "by_month=df[car_types].copy()\n",
    "temp = pd.DatetimeIndex(df['datetime'])\n",
    "by_month['Month'] = temp.month\n",
    "\n",
    "#group by month\n",
    "grouped = by_month.groupby('Month')\n",
    "bar_data = grouped.aggregate(np.mean)/capacity*100\n",
    "\n",
    "#month names for axis\n",
    "months = []\n",
    "for i in range(1,13):\n",
    "    months.append(datetime.date(2008, i, 1).strftime('%B'))\n",
    "bar_data.set_index(pd.Series(months),inplace=True)\n",
    "    \n",
    "    \n",
    "bar_data.plot.bar(stacked=True,y=car_types[2:])\n",
    "plt.title(\"Mean Parking Structure Usage By Month\")\n",
    "plt.xlabel(\"\")\n",
    "plt.gcf().subplots_adjust(bottom=0.15)\n",
    "plt.ylabel(\"Percent Usage (%)\")\n",
    "plt.show()"
   ]
  },
  {
   "cell_type": "markdown",
   "metadata": {},
   "source": [
    "## Plots of Daily Capacity"
   ]
  },
  {
   "cell_type": "code",
   "execution_count": 6,
   "metadata": {
    "collapsed": false,
    "scrolled": true
   },
   "outputs": [],
   "source": [
    "#separate out time\n",
    "day_data=df[car_types].copy()\n",
    "temp = pd.DatetimeIndex(df['datetime'])\n",
    "day_data['time'] = temp.time\n",
    "day_data['date'] = temp.date\n",
    "day_data['month'] = temp.month\n",
    "\n",
    "scatter_all=pd.pivot_table(day_data, index='time', columns='date',values='All Cars')\n",
    "scatter_full=pd.pivot_table(day_data, index='time', columns='date',values='Full Price')\n",
    "scatter_disc=pd.pivot_table(day_data, index='time', columns='date',values='Discounted')\n",
    "\n",
    "#sample every nth\n",
    "n=10\n",
    "\n",
    "scatter_all.iloc[:,::n].plot(legend=False)\n",
    "plt.show()"
   ]
  },
  {
   "cell_type": "code",
   "execution_count": 9,
   "metadata": {
    "collapsed": false
   },
   "outputs": [
    {
     "ename": "NameError",
     "evalue": "name 'months' is not defined",
     "output_type": "error",
     "traceback": [
      "\u001b[1;31m---------------------------------------------------------------------------\u001b[0m",
      "\u001b[1;31mNameError\u001b[0m                                 Traceback (most recent call last)",
      "\u001b[1;32m<ipython-input-9-b33c80cd241b>\u001b[0m in \u001b[0;36m<module>\u001b[1;34m()\u001b[0m\n\u001b[0;32m      5\u001b[0m \u001b[0mday_month\u001b[0m\u001b[1;33m=\u001b[0m\u001b[0mday_month\u001b[0m\u001b[1;33m.\u001b[0m\u001b[0munstack\u001b[0m\u001b[1;33m(\u001b[0m\u001b[1;33m)\u001b[0m\u001b[1;33m\u001b[0m\u001b[0m\n\u001b[0;32m      6\u001b[0m \u001b[0mday_month_all\u001b[0m\u001b[1;33m=\u001b[0m\u001b[0mday_month\u001b[0m\u001b[1;33m[\u001b[0m\u001b[1;34m'All Cars'\u001b[0m\u001b[1;33m]\u001b[0m\u001b[1;33m\u001b[0m\u001b[0m\n\u001b[1;32m----> 7\u001b[1;33m \u001b[0mday_month_all\u001b[0m\u001b[1;33m.\u001b[0m\u001b[0mcolumns\u001b[0m\u001b[1;33m=\u001b[0m\u001b[0mmonths\u001b[0m\u001b[1;33m\u001b[0m\u001b[0m\n\u001b[0m\u001b[0;32m      8\u001b[0m \u001b[1;33m\u001b[0m\u001b[0m\n\u001b[0;32m      9\u001b[0m \u001b[0mday_month_all\u001b[0m\u001b[1;33m.\u001b[0m\u001b[0mplot\u001b[0m\u001b[1;33m(\u001b[0m\u001b[0mlinewidth\u001b[0m\u001b[1;33m=\u001b[0m\u001b[1;36m3\u001b[0m\u001b[1;33m)\u001b[0m\u001b[1;33m\u001b[0m\u001b[0m\n",
      "\u001b[1;31mNameError\u001b[0m: name 'months' is not defined"
     ]
    }
   ],
   "source": [
    "grouped = day_data.groupby(['time','month'])\n",
    "day_month = grouped.aggregate(np.mean)/capacity*100\n",
    "\n",
    "#unstack\n",
    "day_month=day_month.unstack()\n",
    "day_month_all=day_month['All Cars']\n",
    "day_month_all.columns=months\n",
    "\n",
    "day_month_all.plot(linewidth=3)\n",
    "plt.title(\"Mean Parking Structure Usage During the Day\")\n",
    "plt.xlabel(\"Time\")\n",
    "plt.ylabel(\"Percent Usage (%)\")\n",
    "plt.legend(loc=3)\n",
    "plt.show()"
   ]
  },
  {
   "cell_type": "code",
   "execution_count": 8,
   "metadata": {
    "collapsed": false
   },
   "outputs": [],
   "source": [
    "grouped = day_data[['time']+car_types].groupby(['time'])\n",
    "day_avg = grouped.aggregate(np.mean)/capacity*100\n",
    "\n",
    "day_avg.plot.area(y=car_types[2:])\n",
    "plt.title(\"Mean Parking Structure Usage by Price Type During the Day\")\n",
    "plt.xlabel(\"Time\")\n",
    "plt.ylabel(\"Percent Usage (%)\")\n",
    "plt.show()"
   ]
  },
  {
   "cell_type": "code",
   "execution_count": null,
   "metadata": {
    "collapsed": true
   },
   "outputs": [],
   "source": [
    "day_month_all.iloc[50:100]"
   ]
  },
  {
   "cell_type": "markdown",
   "metadata": {},
   "source": [
    "## Plots of Weekly Capacity"
   ]
  },
  {
   "cell_type": "code",
   "execution_count": null,
   "metadata": {
    "collapsed": false
   },
   "outputs": [],
   "source": [
    "#weekday name list\n",
    "wkdy_name=['Monday','Tuesday','Wednesday','Thursday','Friday','Saturday','Sunday']\n",
    "\n",
    "#separate out time\n",
    "week_data=df[car_types].copy()\n",
    "temp = pd.DatetimeIndex(df['datetime'])\n",
    "week_data['time'] = temp.time\n",
    "week_data['date'] = temp.date\n",
    "week_data['weekday'] = df['datetime'].apply(lambda x: wkdy_name[x.weekday()])\n",
    "\n",
    "grouped = week_data.groupby(['weekday'])\n",
    "week_avg = grouped.aggregate(np.mean)/capacity*100\n",
    "week_avg=week_avg.reindex(wkdy_name) #get right order\n",
    "\n",
    "week_avg.plot.bar(stacked=True,y=car_types[2:])\n",
    "plt.title(\"Mean Parking Structure Usage by Weekday\")\n",
    "plt.xlabel(\"\")\n",
    "plt.gcf().subplots_adjust(bottom=0.15)\n",
    "plt.ylabel(\"Percent Usage (%)\")\n",
    "plt.show()"
   ]
  },
  {
   "cell_type": "code",
   "execution_count": null,
   "metadata": {
    "collapsed": false
   },
   "outputs": [],
   "source": [
    "week_data=df[car_types].copy()\n",
    "temp = pd.DatetimeIndex(df['datetime'])\n",
    "week_data['time'] = temp.time\n",
    "week_data['date'] = temp.date\n",
    "week_data['weekday'] = df['datetime'].apply(lambda x: x.weekday())\n",
    "\n",
    "grouped=week_data.groupby(['weekday','time'])\n",
    "week_avg=grouped.aggregate(np.mean)/capacity*100\n",
    "week_avg=week_avg.reset_index()\n",
    "week_avg=week_avg.sort_values(['weekday','time'])\n",
    "week_avg['weekday'] = week_avg['weekday'].apply(lambda x: wkdy_name[x])\n",
    "\n",
    "ax=week_avg.plot.area(x=['time','weekday'],y=car_types[2:])\n",
    "#ax.set_xticks(ax.get_xticks()[::1])\n",
    "plt.title(\"Mean Parking Structure Usage in a Week\")\n",
    "plt.xlabel(\"(Time,Day)\")\n",
    "plt.ylabel(\"Percent Usage (%)\")\n",
    "plt.show()"
   ]
  },
  {
   "cell_type": "code",
   "execution_count": null,
   "metadata": {
    "collapsed": false
   },
   "outputs": [],
   "source": [
    "week_avg[week_avg['weekday']=='Sunday'].plot.area(x=['time'],y=car_types[2:])\n",
    "plt.show()"
   ]
  },
  {
   "cell_type": "markdown",
   "metadata": {},
   "source": [
    "## Plots of Monthly Capacity"
   ]
  },
  {
   "cell_type": "code",
   "execution_count": null,
   "metadata": {
    "collapsed": false
   },
   "outputs": [],
   "source": [
    "#separate out time\n",
    "month_data=df[car_types].copy()\n",
    "temp = pd.DatetimeIndex(df['datetime'])\n",
    "month_data['day'] = temp.day\n",
    "month_data['month'] = temp.month\n",
    "\n",
    "grouped = month_data.groupby(['day'])\n",
    "in_month_avg = grouped.aggregate(np.mean)/capacity*100\n",
    "\n",
    "in_month_avg.plot.area(stacked=True,y=car_types[2:])\n",
    "plt.title(\"Mean Parking Structure Usage in a Month\")\n",
    "plt.xlabel(\"Day\")\n",
    "plt.ylabel(\"Percent Usage (%)\")\n",
    "plt.show()"
   ]
  },
  {
   "cell_type": "code",
   "execution_count": null,
   "metadata": {
    "collapsed": false
   },
   "outputs": [],
   "source": [
    "#Gross\n",
    "\n",
    "grouped = month_data.groupby(['day','month'])\n",
    "each_month = grouped.aggregate(np.mean)\n",
    "\n",
    "#unstack\n",
    "each_month=each_month.unstack()\n",
    "each_month=each_month['All Cars']\n",
    "each_month.columns=months\n",
    "\n",
    "each_month.plot()\n",
    "plt.title(\"Mean Parking Structure Usage in a Month\")\n",
    "plt.xlabel(\"Day\")\n",
    "plt.ylabel(\"Number of Cars\")\n",
    "plt.show()"
   ]
  },
  {
   "cell_type": "markdown",
   "metadata": {},
   "source": [
    "## Histogram of Entry Frequency"
   ]
  },
  {
   "cell_type": "code",
   "execution_count": null,
   "metadata": {
    "collapsed": false
   },
   "outputs": [],
   "source": [
    "hist_data=df[car_types[2:]]\n",
    "\n",
    "hist_data[car_types[2:]].plot.hist(alpha=0.8,bins=50)\n",
    "plt.title(\"Entry Frequency\")\n",
    "plt.xlabel(\"Number of Cars/10 Minutes\")\n",
    "plt.ylabel(\"Frequency\")\n",
    "plt.show()"
   ]
  },
  {
   "cell_type": "code",
   "execution_count": null,
   "metadata": {
    "collapsed": false
   },
   "outputs": [],
   "source": [
    "hist_data"
   ]
  },
  {
   "cell_type": "code",
   "execution_count": null,
   "metadata": {
    "collapsed": true
   },
   "outputs": [],
   "source": [
    "#looking only at September\n",
    "#del_mar=del_mar.loc[(del_mar['datetime'].dt.month==12) & (del_mar['datetime'].dt.day==25),]\n",
    "\n",
    "#split date time\n",
    "#temp = pd.DatetimeIndex(del_mar['datetime'])\n",
    "#del_mar['Date'] = temp.date\n",
    "#del_mar['Time'] = temp.time\n",
    "\n",
    "#group by time and average\n",
    "#grouped = del_mar.groupby('Date')\n",
    "#time=grouped.aggregate(np.mean)\n",
    "\n",
    "del_mar.plot(x=del_mar['datetime'])\n",
    "plt.show()\n",
    "\n",
    "aug=del_mar()\n",
    "#aug.plot(x=aug['datetime'])\n",
    "#plt.show()\n",
    "\n",
    "#del_mar.loc[(del_mar['datetime'].dt.month==12) & (del_mar['datetime'].dt.day==25),]"
   ]
  }
 ],
 "metadata": {
  "kernelspec": {
   "display_name": "Python 2",
   "language": "python",
   "name": "python2"
  },
  "language_info": {
   "codemirror_mode": {
    "name": "ipython",
    "version": 2
   },
   "file_extension": ".py",
   "mimetype": "text/x-python",
   "name": "python",
   "nbconvert_exporter": "python",
   "pygments_lexer": "ipython2",
   "version": "2.7.9"
  }
 },
 "nbformat": 4,
 "nbformat_minor": 0
}
